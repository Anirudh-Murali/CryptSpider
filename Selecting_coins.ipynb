{
 "cells": [
  {
   "cell_type": "code",
   "execution_count": 1,
   "metadata": {
    "collapsed": true
   },
   "outputs": [],
   "source": [
    "import pandas as pd\n",
    "import numpy as np\n",
    "import os as os\n",
    "\n"
   ]
  },
  {
   "cell_type": "code",
   "execution_count": 31,
   "metadata": {},
   "outputs": [],
   "source": [
    "def get_months(data):  \n",
    "    num_of_months = data.shape[1] -2\n",
    "    months = []\n",
    "    for d in data.columns[1:num_of_months+1]:\n",
    "        d = float(d)\n",
    "#           print(d)  \n",
    "        months.append(d)\n",
    "    starting_month = min(months)    \n",
    "    ending_month = float(starting_month) + float(num_of_months) - 1\n",
    "\n",
    "    return months"
   ]
  },
  {
   "cell_type": "code",
   "execution_count": 3,
   "metadata": {
    "collapsed": true
   },
   "outputs": [],
   "source": [
    "def rename_months(data,months,key=0):\n",
    "    if key ==1:\n",
    "        named_months = ['week_name']\n",
    "    else:\n",
    "        named_months = []\n",
    "    for i in months:\n",
    "        if i == 1:\n",
    "          named_months.append(\"January\")  \n",
    "        elif i == 2:\n",
    "          named_months.append(\"Febuary\")\n",
    "        elif i == 3:\n",
    "          named_months.append(\"March\")\n",
    "        elif i == 4:\n",
    "          named_months.append(\"April\")\n",
    "        elif i == 5:\n",
    "          named_months.append(\"May\")\n",
    "        elif i == 6:\n",
    "          named_months.append(\"June\")\n",
    "        elif i == 7:\n",
    "          named_months.append(\"July\")\n",
    "        elif i == 8:\n",
    "          named_months.append(\"August\")\n",
    "        elif i == 9:\n",
    "          named_months.append(\"September\")\n",
    "        elif i == 10:\n",
    "          named_months.append(\"October\")\n",
    "        elif i == 11:\n",
    "          named_months.append(\"November\")\n",
    "        elif i == 12:\n",
    "          named_months.append(\"December\")\n",
    "    if key == 1:    \n",
    "        named_months.append(\"index\")\n",
    "    #     print(named_months)\n",
    "        data.columns = named_months\n",
    "    #     print(data)\n",
    "        return data\n",
    "    else:\n",
    "        return named_months"
   ]
  },
  {
   "cell_type": "code",
   "execution_count": 4,
   "metadata": {
    "collapsed": true
   },
   "outputs": [],
   "source": [
    "def check_returns(data,months):\n",
    "    first = data[months[0]][0]\n",
    "    k = -1\n",
    "\n",
    "    returns_list = []\n",
    "    for m in months:\n",
    "        na_count = 0\n",
    "        first = 0\n",
    "        returns_value = []\n",
    "        return_dict = {}\n",
    "        for i in data[m].index:\n",
    "                if k == -1:\n",
    "                    k = 0\n",
    "    #                 first = data[m][i]\n",
    "                    continue\n",
    "\n",
    "\n",
    "                else:\n",
    "                    returns = data[m][i] - first\n",
    "                    first = data[m][i]\n",
    "    #                 k = -1\n",
    "    #                 print(returns)\n",
    "                    if returns > 0:\n",
    "                        returns = 1\n",
    "                    else:\n",
    "                        returns = 0\n",
    "                    returns_value.append(returns)\n",
    "        returns_value = np.array(returns_value)\n",
    "    #     print(returns_value.sum())\n",
    "        deciding_factor = returns_value.sum()\n",
    "        if deciding_factor > 2:\n",
    "                return_dict[m] = True\n",
    "        else: \n",
    "                return_dict[m] = False\n",
    "\n",
    "        return_dict[\"Number_of_Profitable_weeks\"] = returns_value.sum()\n",
    "        returns_list.append(return_dict)\n",
    "    return(returns_list)    \n"
   ]
  },
  {
   "cell_type": "code",
   "execution_count": 16,
   "metadata": {
    "collapsed": true
   },
   "outputs": [],
   "source": [
    "def selecting_criteria(data,returns_score,months):\n",
    "    num_of_months = len(returns_score)\n",
    "    to_clear = int(num_of_months * 0.50)                       #you can change the criteria here\n",
    "    # print(to_clear)\n",
    "    count = 0\n",
    "    i = 0\n",
    "    # selected = []\n",
    "    for m in months:\n",
    "        if returns_score[i][m] == True:\n",
    "            count += 1\n",
    "        i += 1\n",
    "        if count > to_clear:\n",
    "#             print(\"Coin Selected\"+str(data['index'][0]))\n",
    "            return True\n",
    "    return False    "
   ]
  },
  {
   "cell_type": "code",
   "execution_count": 6,
   "metadata": {
    "collapsed": true
   },
   "outputs": [],
   "source": [
    "# returns_score[1]['August']"
   ]
  },
  {
   "cell_type": "code",
   "execution_count": 7,
   "metadata": {
    "collapsed": true
   },
   "outputs": [],
   "source": [
    "def flash(data):\n",
    "# data= pd.read_excel(\"Output/1BL/omisego.xls\")\n",
    "    months = get_months(data)\n",
    "#     print(str(months))\n",
    "    data = rename_months(data,months,1)\n",
    "#     print(data)\n",
    "    months.sort()\n",
    "    months =rename_months(data,months)\n",
    "#     print(\"-------------------------------------------\")\n",
    "    returns_score = check_returns(data,months)\n",
    "#     print(returns_score)\n",
    "    \n",
    "    \n",
    "    select = selecting_criteria(data,returns_score,months)\n",
    "    print(data['index'][0]+\"  :  \"+str(select))\n",
    "    return select\n",
    "    \n",
    "# print(selected_coins)    "
   ]
  },
  {
   "cell_type": "code",
   "execution_count": 20,
   "metadata": {
    "collapsed": true
   },
   "outputs": [],
   "source": [
    "def run_it(folder,folder_name):\n",
    "    count = 0\n",
    "    names = pd.DataFrame()\n",
    "    selected_coins = []\n",
    "\n",
    "    for file in folder:\n",
    "        filepath = folderpath + \"\\\\\" + file\n",
    "    #     print(filepath)\n",
    "        data = pd.read_excel(\"Output/\"+folder_name+\"/\"+file)\n",
    "        select = flash(data)\n",
    "    #     print(data)\n",
    "    #     break\n",
    "        if select == True:\n",
    "            selected_coins.append(data['index'][0])\n",
    "\n",
    "\n",
    "        names = names.append(data, ignore_index=True)\n",
    "        count = count + 1\n",
    "    # print(names)\n",
    "    print (\"Files Imported\" + str(count))\n",
    "    print (\"-----------------------------------------Selected coin:----------------------------------------------\")\n",
    "    print (selected_coins)\n",
    "    selected_coins = pd.DataFrame(selected_coins)\n",
    "#     selected_coins.to_csv(\"Results/\"+folder_name+\".csv\")\n",
    "    print(len(selected_coins))\n",
    "    "
   ]
  },
  {
   "cell_type": "code",
   "execution_count": 32,
   "metadata": {},
   "outputs": [
    {
     "name": "stdout",
     "output_type": "stream",
     "text": [
      "2GIVE  :  False\n",
      "APX  :  False\n",
      "Bitswift  :  True\n",
      "Blitzcash  :  True\n",
      "Breakout-Stake  :  True\n",
      "Breakout  :  False\n",
      "Bytecent  :  True\n",
      "CannabisCoin  :  True\n",
      "Capricoin  :  False\n",
      "Creditbit  :  False\n",
      "e-Gulden  :  True\n",
      "eboostcoin  :  True\n",
      "EuropeCoin  :  True\n",
      "EverGreenCoin  :  True\n",
      "ExclusiveCoin  :  True\n",
      "GeoCoin  :  True\n",
      "GoldCoin  :  False\n",
      "Influxcoin  :  True\n",
      "Legends-Room  :  False\n",
      "Magi  :  True\n",
      "ParkByte  :  False\n",
      "Project-Decorum  :  True\n",
      "Qwark  :  False\n",
      "SpreadCoin  :  True\n",
      "Startcoin  :  False\n",
      "Syndicate  :  True\n",
      "Synergy  :  True\n",
      "Tokes  :  False\n",
      "TrustPlus  :  True\n",
      "UnbreakableCoin  :  True\n",
      "VeriumReserve  :  False\n",
      "vTorrent  :  False\n",
      "ZClassic  :  False\n",
      "Files Imported33\n",
      "-----------------------------------------Selected coin:----------------------------------------------\n",
      "['Bitswift', 'Blitzcash', 'Breakout-Stake', 'Bytecent', 'CannabisCoin', 'e-Gulden', 'eboostcoin', 'EuropeCoin', 'EverGreenCoin', 'ExclusiveCoin', 'GeoCoin', 'Influxcoin', 'Magi', 'Project-Decorum', 'SpreadCoin', 'Syndicate', 'Synergy', 'TrustPlus', 'UnbreakableCoin']\n",
      "19\n"
     ]
    }
   ],
   "source": [
    "\n",
    "#set folder to import files from\n",
    "folder_name = '1MIL-10MIL'\n",
    "folderpath = r'/media/batman/Stuff/Projects/TE/Stirring Minds/API/Data_Scrapper/Output/'+str(folder_name)\n",
    "folder = os.listdir(folderpath)\n",
    "run_it(folder,folder_name)\n",
    "#print list of files\n"
   ]
  },
  {
   "cell_type": "code",
   "execution_count": 26,
   "metadata": {},
   "outputs": [
    {
     "ename": "NameError",
     "evalue": "name 'selected_coins' is not defined",
     "output_type": "error",
     "traceback": [
      "\u001b[0;31m---------------------------------------------------------------------------\u001b[0m",
      "\u001b[0;31mNameError\u001b[0m                                 Traceback (most recent call last)",
      "\u001b[0;32m<ipython-input-26-f43f2c9cec15>\u001b[0m in \u001b[0;36m<module>\u001b[0;34m()\u001b[0m\n\u001b[0;32m----> 1\u001b[0;31m \u001b[0mselected_coins\u001b[0m\u001b[0;34m\u001b[0m\u001b[0m\n\u001b[0m",
      "\u001b[0;31mNameError\u001b[0m: name 'selected_coins' is not defined"
     ]
    }
   ],
   "source": [
    "selected_coins"
   ]
  }
 ],
 "metadata": {
  "kernelspec": {
   "display_name": "Python 2",
   "language": "python",
   "name": "python2"
  },
  "language_info": {
   "codemirror_mode": {
    "name": "ipython",
    "version": 3
   },
   "file_extension": ".py",
   "mimetype": "text/x-python",
   "name": "python",
   "nbconvert_exporter": "python",
   "pygments_lexer": "ipython3",
   "version": "3.6.1"
  }
 },
 "nbformat": 4,
 "nbformat_minor": 2
}
